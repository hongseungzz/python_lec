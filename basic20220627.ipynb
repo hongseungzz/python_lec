{
 "cells": [
  {
   "cell_type": "markdown",
   "metadata": {
    "id": "jpz-Z7CykGpY"
   },
   "source": [
    "## 제목 1\n",
    "- 파이썬 입문\n"
   ]
  },
  {
   "cell_type": "markdown",
   "metadata": {
    "id": "0rQ0yp3KkTpf"
   },
   "source": [
    "### 소제목1\n",
    "여기는 소제목"
   ]
  },
  {
   "cell_type": "code",
   "execution_count": 8,
   "metadata": {
    "colab": {
     "base_uri": "https://localhost:8080/"
    },
    "id": "U3pi_JJtkb7k",
    "outputId": "f601dd85-dc90-4b04-fe9e-fc10763a62c9"
   },
   "outputs": [
    {
     "name": "stdout",
     "output_type": "stream",
     "text": [
      "Hello World\n"
     ]
    }
   ],
   "source": [
    "print(\"Hello World\")"
   ]
  },
  {
   "cell_type": "markdown",
   "metadata": {
    "id": "BXcg8e5Ykje4"
   },
   "source": [
    "## 제목 2\n",
    "- 제목 2 세션\n"
   ]
  },
  {
   "cell_type": "markdown",
   "metadata": {
    "id": "IjRSPKI6kp8j"
   },
   "source": [
    "### 소제목 1\n",
    "- 라이브러리를 불러온다.\n"
   ]
  },
  {
   "cell_type": "code",
   "execution_count": 9,
   "metadata": {
    "colab": {
     "base_uri": "https://localhost:8080/"
    },
    "id": "YELcw2QPkv1I",
    "outputId": "d7ff6d7c-d8ef-4288-b819-7d0c7079137e",
    "tags": []
   },
   "outputs": [
    {
     "name": "stdout",
     "output_type": "stream",
     "text": [
      "2\n"
     ]
    }
   ],
   "source": [
    "print(1+1)"
   ]
  },
  {
   "cell_type": "markdown",
   "metadata": {},
   "source": [
    "## 제목 3\n",
    "- 여기는 제목 3입니다."
   ]
  },
  {
   "cell_type": "code",
   "execution_count": null,
   "metadata": {},
   "outputs": [],
   "source": [
    "print(2+4)"
   ]
  }
 ],
 "metadata": {
  "accelerator": "GPU",
  "colab": {
   "name": "basic20220627.ipynb",
   "provenance": [],
   "toc_visible": true
  },
  "gpuClass": "standard",
  "kernelspec": {
   "display_name": "Python 3 (ipykernel)",
   "language": "python",
   "name": "python3"
  },
  "language_info": {
   "codemirror_mode": {
    "name": "ipython",
    "version": 3
   },
   "file_extension": ".py",
   "mimetype": "text/x-python",
   "name": "python",
   "nbconvert_exporter": "python",
   "pygments_lexer": "ipython3",
   "version": "3.9.12"
  }
 },
 "nbformat": 4,
 "nbformat_minor": 4
}
