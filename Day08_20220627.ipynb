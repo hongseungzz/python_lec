{
 "cells": [
  {
   "cell_type": "markdown",
   "metadata": {
    "id": "y7Bk7jQ6zhlm"
   },
   "source": [
    "---\n",
    "title: \"Python 기초문법\"\n",
    "date: '2022-06-27'\n",
    "---"
   ]
  },
  {
   "cell_type": "markdown",
   "metadata": {
    "id": "uHhoQInLz2T2"
   },
   "source": [
    "- Hello world"
   ]
  },
  {
   "cell_type": "code",
   "execution_count": 48,
   "metadata": {
    "colab": {
     "base_uri": "https://localhost:8080/"
    },
    "id": "l8ezTPK6z8or",
    "outputId": "55acb43f-fc5f-4528-f886-b21b7f0dac2f"
   },
   "outputs": [
    {
     "name": "stdout",
     "output_type": "stream",
     "text": [
      "Hello world\n"
     ]
    }
   ],
   "source": [
    "print(\"Hello world\")"
   ]
  },
  {
   "cell_type": "markdown",
   "metadata": {
    "id": "zmfMuisc0F8I"
   },
   "source": [
    "## 주석처리\n",
    "- 1줄 주석, 여러 줄 주석 처리\n",
    "  + 함수 또는 클래스를 문서화할 때 주로 사용\n",
    "\n",
    "- 프로젝트 할 때\n",
    "  + 전체 공정 100이라 가정하면\n",
    "  + 코드 / 코드 문서화 / 한글작업 문서화 \n",
    "  \n",
    "      -> 코드 문서화가 제일 어려움\n",
    "  "
   ]
  },
  {
   "cell_type": "code",
   "execution_count": 49,
   "metadata": {
    "colab": {
     "base_uri": "https://localhost:8080/"
    },
    "id": "ovixgGKI0K9e",
    "outputId": "18bb920b-8d88-4c56-8547-4de74f4cea69"
   },
   "outputs": [
    {
     "name": "stdout",
     "output_type": "stream",
     "text": [
      "1줄 주석\n",
      "여러줄 주석\n"
     ]
    }
   ],
   "source": [
    "# print() 함수 사용\n",
    "print(\"1줄 주석\")\n",
    "\n",
    "\"\"\"\n",
    "여러 줄 주석\n",
    "쌍따옴표 3개를 입력해주세요\n",
    "앞뒤로\n",
    "\"\"\"\n",
    "\n",
    "print(\"여러줄 주석\")"
   ]
  },
  {
   "cell_type": "markdown",
   "metadata": {
    "id": "mLnJ4z285Wq0"
   },
   "source": [
    "## 변수(scalar)\n",
    "- 자료형\n",
    "- Scalar형, Non-Scalar형"
   ]
  },
  {
   "cell_type": "markdown",
   "metadata": {
    "id": "_5JgZa4M5mgw"
   },
   "source": [
    "### 수치형 자료형\n",
    "- int, float"
   ]
  },
  {
   "cell_type": "code",
   "execution_count": 50,
   "metadata": {
    "colab": {
     "base_uri": "https://localhost:8080/"
    },
    "id": "VzOFVcWE5rMG",
    "outputId": "645bd4ad-d1be-42ec-bd96-ac279af65123"
   },
   "outputs": [
    {
     "name": "stdout",
     "output_type": "stream",
     "text": [
      "1\n",
      "<class 'int'>\n"
     ]
    }
   ],
   "source": [
    "num_int = 1\n",
    "print(num_int)\n",
    "print(type(num_int))"
   ]
  },
  {
   "cell_type": "code",
   "execution_count": 51,
   "metadata": {
    "colab": {
     "base_uri": "https://localhost:8080/"
    },
    "id": "odP7ywlm6L0E",
    "outputId": "ca5d853d-cd28-4403-9ac0-d0fbdf095efe"
   },
   "outputs": [
    {
     "name": "stdout",
     "output_type": "stream",
     "text": [
      "0.1\n",
      "<class 'float'>\n"
     ]
    }
   ],
   "source": [
    "num_float = 0.1\n",
    "print(num_float)\n",
    "print(type(num_float))"
   ]
  },
  {
   "cell_type": "markdown",
   "metadata": {
    "id": "KAUN8OYW6WiF"
   },
   "source": [
    "### Bool형\n",
    "- True, False(앞 글자만 대문자)\n",
    "- R: TRUE, FALSE(모두 대문자)"
   ]
  },
  {
   "cell_type": "code",
   "execution_count": 52,
   "metadata": {
    "colab": {
     "base_uri": "https://localhost:8080/"
    },
    "id": "wi6i3MvS6ikS",
    "outputId": "fb51a70a-7a2c-44a5-e771-8290b419cf2f"
   },
   "outputs": [
    {
     "name": "stdout",
     "output_type": "stream",
     "text": [
      "True\n",
      "<class 'bool'>\n"
     ]
    }
   ],
   "source": [
    "bool_true = True\n",
    "print(bool_true)\n",
    "print(type(bool_true))"
   ]
  },
  {
   "cell_type": "markdown",
   "metadata": {
    "id": "Ig7NMGdK67zh"
   },
   "source": [
    "## None 자료형\n",
    "- Null값, 값이 정해지지 않은 자료형"
   ]
  },
  {
   "cell_type": "code",
   "execution_count": 53,
   "metadata": {
    "colab": {
     "base_uri": "https://localhost:8080/"
    },
    "id": "fP0eqkAW7Cgf",
    "outputId": "940846db-7093-4a71-a0e4-ca5c1ac1859c"
   },
   "outputs": [
    {
     "name": "stdout",
     "output_type": "stream",
     "text": [
      "None\n",
      "<class 'NoneType'>\n"
     ]
    }
   ],
   "source": [
    "none_x = None\n",
    "print(none_x)\n",
    "print(type(none_x))"
   ]
  },
  {
   "cell_type": "markdown",
   "metadata": {
    "id": "FXNRPkgS7ZqU"
   },
   "source": [
    "## 사칙연산\n",
    "- 정수형 사칙연산, 실수형 사칙연산\n",
    "- 결과값의 자료형"
   ]
  },
  {
   "cell_type": "markdown",
   "metadata": {
    "id": "1Cb4hZ9w7m8c"
   },
   "source": [
    "### 정수형 사칙연산\n",
    "+, -, *, /"
   ]
  },
  {
   "cell_type": "code",
   "execution_count": 54,
   "metadata": {
    "colab": {
     "base_uri": "https://localhost:8080/"
    },
    "id": "8moOAJVQ7x9w",
    "outputId": "a14226ac-5e91-428c-d894-695643a37037"
   },
   "outputs": [
    {
     "name": "stdout",
     "output_type": "stream",
     "text": [
      "a + b =  5\n",
      "a - b =  1\n",
      "a * b =  6\n",
      "a / b =  1.5\n",
      "<class 'int'>\n",
      "<class 'int'>\n",
      "<class 'int'>\n",
      "<class 'float'>\n"
     ]
    }
   ],
   "source": [
    "a = 3\n",
    "b = 2\n",
    "print('a + b = ', a+b)\n",
    "print('a - b = ', a-b)\n",
    "print('a * b = ', a*b)\n",
    "print('a / b = ', a/b)\n",
    "print(type(a + b))\n",
    "print(type(a - b))\n",
    "print(type(a * b))\n",
    "print(type(a / b))"
   ]
  },
  {
   "cell_type": "markdown",
   "metadata": {
    "id": "Fw9yl22V743s"
   },
   "source": [
    "### 실수형 사칙연산"
   ]
  },
  {
   "cell_type": "code",
   "execution_count": 55,
   "metadata": {
    "colab": {
     "base_uri": "https://localhost:8080/"
    },
    "id": "n-7kFdxW78Tz",
    "outputId": "94873a5d-d436-43f5-9262-2c0f9c0453ff"
   },
   "outputs": [
    {
     "name": "stdout",
     "output_type": "stream",
     "text": [
      "a + b =  4.0\n",
      "a - b =  -1.0\n",
      "a * b =  3.75\n",
      "a / b =  0.6\n",
      "<class 'float'>\n",
      "<class 'float'>\n",
      "<class 'float'>\n",
      "<class 'float'>\n"
     ]
    }
   ],
   "source": [
    "a = 1.5\n",
    "b = 2.5\n",
    "print('a + b = ', a+b)\n",
    "print('a - b = ', a-b)\n",
    "print('a * b = ', a*b)\n",
    "print('a / b = ', a/b)\n",
    "print(type(a + b))\n",
    "print(type(a - b))\n",
    "print(type(a * b))\n",
    "print(type(a / b))"
   ]
  },
  {
   "cell_type": "markdown",
   "metadata": {
    "id": "PAbygVOo9h-D"
   },
   "source": [
    "## 논리형 연산자\n",
    "- Bool형\n",
    "- True와 False 값으로 정의\n",
    "- 조건식\n",
    "  + 교집합(=and), 합집합(=or)"
   ]
  },
  {
   "cell_type": "code",
   "execution_count": 56,
   "metadata": {
    "colab": {
     "base_uri": "https://localhost:8080/"
    },
    "id": "VqAJqfl79vNr",
    "outputId": "60c797ba-f1b8-492d-97cf-bdee574f2b8e"
   },
   "outputs": [
    {
     "name": "stdout",
     "output_type": "stream",
     "text": [
      "True\n",
      "False\n",
      "False\n",
      "False\n"
     ]
    }
   ],
   "source": [
    "print(True and True)\n",
    "print(True and False)\n",
    "print(False and True)\n",
    "print(False and False)"
   ]
  },
  {
   "cell_type": "code",
   "execution_count": 57,
   "metadata": {
    "colab": {
     "base_uri": "https://localhost:8080/"
    },
    "id": "v69K3XzC-AIa",
    "outputId": "31f7b2e1-4814-48fa-dc42-979b38b78289"
   },
   "outputs": [
    {
     "name": "stdout",
     "output_type": "stream",
     "text": [
      "True\n",
      "True\n",
      "True\n",
      "False\n"
     ]
    }
   ],
   "source": [
    "print(True or True)\n",
    "print(True or False)\n",
    "print(False or True)\n",
    "print(False or False)"
   ]
  },
  {
   "cell_type": "markdown",
   "metadata": {
    "id": "QTd7eMVd-Jy4"
   },
   "source": [
    "## 비교 연산자\n",
    "- 비교 연산자는 부등호를 의미"
   ]
  },
  {
   "cell_type": "code",
   "execution_count": 58,
   "metadata": {
    "colab": {
     "base_uri": "https://localhost:8080/"
    },
    "id": "-agMjmHO-PId",
    "outputId": "ccb0aa59-1af1-4dc7-9648-843a7d9179e4"
   },
   "outputs": [
    {
     "name": "stdout",
     "output_type": "stream",
     "text": [
      "True\n",
      "False\n",
      "False\n",
      "True\n"
     ]
    }
   ],
   "source": [
    "print(4 > 3)   # 참 = True\n",
    "print(4 < 3)   # 거짓 = False\n",
    "\n",
    "print(4 > 3 and 4 < 3)   # False\n",
    "print(4 > 3 or 4 < 3)    # True"
   ]
  },
  {
   "cell_type": "markdown",
   "metadata": {
    "id": "9zT25iDo-uXG"
   },
   "source": [
    "## 논리형 & 비교 연산자 응용\n",
    "- input()\n",
    "- 형 변환\n",
    "  + 데이터 타입을 바꾸는 것"
   ]
  },
  {
   "cell_type": "code",
   "execution_count": 258,
   "metadata": {
    "colab": {
     "base_uri": "https://localhost:8080/"
    },
    "id": "8_qEkRHF-731",
    "outputId": "a4afb4b5-44b6-465c-b31a-5bd7a66674d2"
   },
   "outputs": [
    {
     "name": "stdout",
     "output_type": "stream",
     "text": [
      "숫자를 입력하세요..!\"g\"\n",
      "\"g\"\n",
      "<class 'str'>\n"
     ]
    }
   ],
   "source": [
    "var = int(input(\"숫자를 입력하세요..!\"))\n",
    "print(var)\n",
    "print(type(var))   # str = 문자"
   ]
  },
  {
   "cell_type": "code",
   "execution_count": null,
   "metadata": {
    "id": "BQGozvNE_y-c"
   },
   "outputs": [],
   "source": [
    "num1 = int(input(\"첫번째 숫자를 입력하세요..!\"))\n",
    "num2 = int(input(\"두번째 숫자를 입력하세요..!\"))\n",
    "num3 = int(input(\"세번째 숫자를 입력하세요..!\"))\n",
    "num4 = int(input(\"네번째 숫자를 입력하세요..!\"))"
   ]
  },
  {
   "cell_type": "code",
   "execution_count": 67,
   "metadata": {
    "id": "NPT9y3Ey_7zz"
   },
   "outputs": [],
   "source": [
    "var1 = num1 >= num2\n",
    "var2 = num3 < num4"
   ]
  },
  {
   "cell_type": "code",
   "execution_count": 297,
   "metadata": {
    "colab": {
     "base_uri": "https://localhost:8080/"
    },
    "id": "RVJymK-ZAFdw",
    "outputId": "f5079e11-dc3b-49e0-8352-28d0a92de8f7"
   },
   "outputs": [
    {
     "name": "stdout",
     "output_type": "stream",
     "text": [
      "False\n",
      "True\n"
     ]
    }
   ],
   "source": [
    "print(var1 and var2)\n",
    "print(var1 or var2)\n",
    "\n",
    "# 1 True\n",
    "# 2 False"
   ]
  },
  {
   "cell_type": "markdown",
   "metadata": {
    "id": "7wMj1PLgBwqj"
   },
   "source": [
    "## Stirng\n",
    "- Non Scalar"
   ]
  },
  {
   "cell_type": "code",
   "execution_count": 73,
   "metadata": {
    "colab": {
     "base_uri": "https://localhost:8080/"
    },
    "id": "vCxwaUVRB376",
    "outputId": "d3afd1e4-a69e-42e9-df7d-2668874f457f"
   },
   "outputs": [
    {
     "name": "stdout",
     "output_type": "stream",
     "text": [
      "Hello World\n",
      "Hello World\n",
      "'Hello World'\n",
      "\"Hello World\"\n"
     ]
    }
   ],
   "source": [
    "print('Hello World')\n",
    "print(\"Hello World\")\n",
    "# 어떤 것을 해도 상관 없지만 앞뒤가 같으면 됨\n",
    "\n",
    "print(\"'Hello World'\")   # 따옴표를 보여주고 싶을 경우 예시\n",
    "print('\"Hello World\"')"
   ]
  },
  {
   "cell_type": "markdown",
   "metadata": {
    "id": "eWvL0CTJCciU"
   },
   "source": [
    "## String Operators\n",
    "- 문자열 연산자\n",
    "- +, * 가능"
   ]
  },
  {
   "cell_type": "code",
   "execution_count": 79,
   "metadata": {
    "colab": {
     "base_uri": "https://localhost:8080/"
    },
    "id": "hPBY5jKAClu1",
    "outputId": "8d964563-8c4f-4042-dc68-518da046bcc8"
   },
   "outputs": [
    {
     "name": "stdout",
     "output_type": "stream",
     "text": [
      "HelloWorld\n",
      "Hello World\n"
     ]
    }
   ],
   "source": [
    "str1 = \"Hello\"\n",
    "str2 = \"World\"\n",
    "print(str1 + str2)\n",
    "\n",
    "str3 = \"Hello\"\n",
    "str4 = \" World\"\n",
    "print(str3 + str4)"
   ]
  },
  {
   "cell_type": "code",
   "execution_count": 83,
   "metadata": {
    "colab": {
     "base_uri": "https://localhost:8080/"
    },
    "id": "R2n61gIBC5s3",
    "outputId": "125cb5ca-2415-4e78-9d91-ccdf42a5d6a1"
   },
   "outputs": [
    {
     "name": "stdout",
     "output_type": "stream",
     "text": [
      "Hello WorldHello WorldHello World\n"
     ]
    }
   ],
   "source": [
    "greet = str3 + str4\n",
    "print(greet * 3)"
   ]
  },
  {
   "cell_type": "markdown",
   "metadata": {
    "id": "jc_Y3q5dMaTQ"
   },
   "source": [
    "## 조건문 if\n",
    "- 프로그래밍에서 조건을 판단하여 해당 조건에 맞는 상황을 수행"
   ]
  },
  {
   "cell_type": "code",
   "execution_count": 248,
   "metadata": {
    "colab": {
     "base_uri": "https://localhost:8080/"
    },
    "id": "6blVXVWCMmAI",
    "outputId": "a3fdde47-e4e4-44ad-dd96-8a490b7cd255"
   },
   "outputs": [
    {
     "name": "stdout",
     "output_type": "stream",
     "text": [
      "a is ace\n"
     ]
    }
   ],
   "source": [
    "a = 19\n",
    "b = 95\n",
    "if a < b :\n",
    "  print(\"a is ace\")    # if 다음 문장은 탭키나 스페이스바 4번을 눌러 반드시 들여쓰기를 해야 함"
   ]
  },
  {
   "cell_type": "code",
   "execution_count": 249,
   "metadata": {
    "colab": {
     "base_uri": "https://localhost:8080/"
    },
    "id": "m7wyvfZC-Pzy",
    "outputId": "c93d0ec4-e5df-49f6-9e9f-4b1a901980a9"
   },
   "outputs": [
    {
     "name": "stdout",
     "output_type": "stream",
     "text": [
      "숫자를 입력하시오10\n",
      "a는 5보다 크다\n"
     ]
    }
   ],
   "source": [
    "a = int(input(\"숫자를 입력하시오\"))\n",
    "if a > 5 :\n",
    "  print(\"a는 5보다 크다\")\n",
    "elif a > 0 :\n",
    "  print(\"a는 0보다 크다\")\n",
    "elif a > -3 : \n",
    "  print (\"a는 -3보다 크다\")\n",
    "else :                              # else 에는 조건을 붙이지 않음\n",
    "  print (\"a는 아주 작다\") "
   ]
  },
  {
   "cell_type": "markdown",
   "metadata": {
    "id": "eVg0P_cdNTi8"
   },
   "source": [
    "## 반복문 for\n",
    "- 실행해야 할 문장을 여러 번 반복"
   ]
  },
  {
   "cell_type": "code",
   "execution_count": null,
   "metadata": {
    "id": "PCBJSYGNFP2T"
   },
   "outputs": [],
   "source": [
    "for a in [1,2,3]:\n",
    "  print(a)    # for 다음 문장 역시 들여쓰기를 해야 함\n",
    "\n",
    "for (a,b) in [(1,9), (9,5), (0,8), (1,8)] :\n",
    "  print(a + b)"
   ]
  },
  {
   "cell_type": "code",
   "execution_count": 280,
   "metadata": {
    "colab": {
     "base_uri": "https://localhost:8080/"
    },
    "id": "9JyWwIWkA0gs",
    "outputId": "a03a15ff-8089-4ec3-af42-6beb4f4309c3"
   },
   "outputs": [
    {
     "name": "stdout",
     "output_type": "stream",
     "text": [
      "1 Hello World\n",
      "2 Hello World\n",
      "3 Hello World\n",
      "4 Hello World\n",
      "5 Hello World\n"
     ]
    }
   ],
   "source": [
    "# Hello World 100000번 출력\n",
    "for o in range(5) :         # for 변수 in range(반복횟수) :\n",
    "  # print(o+1)                # 파이썬은 0부터 시작이기 때문에 1을 더해서 1부터 시작하도록 만들어줌\n",
    "  print(o+1, \"Hello World\")    # print(변수+1, 값) -> 인덱스와 값이 같이 출력"
   ]
  },
  {
   "cell_type": "markdown",
   "metadata": {
    "id": "zkk4KcFXCyBH"
   },
   "source": [
    "- for loop if 조건문 사용\n",
    "- 문자열, 리스트 등 --> 시퀀스 데이터(반복문을 쓸 수 있음)"
   ]
  },
  {
   "cell_type": "code",
   "execution_count": 276,
   "metadata": {
    "colab": {
     "base_uri": "https://localhost:8080/"
    },
    "id": "Wt_jAm6KC27K",
    "outputId": "ef3fad35-5f95-4bbe-91c5-0eec19834eee"
   },
   "outputs": [
    {
     "name": "stdout",
     "output_type": "stream",
     "text": [
      "T\n",
      "u\n",
      "r\n"
     ]
    }
   ],
   "source": [
    "a = \"Turner\"\n",
    "# r이 시작하면 반복문을 멈추세요\n",
    "for u in a : \n",
    "  print(u)            # print() 위치에 따라 출력값을 조정할 수 있음\n",
    "  if u == \"r\" :\n",
    "    break             # 들여쓰기 라인을 잘 맞춰야 함"
   ]
  },
  {
   "cell_type": "markdown",
   "metadata": {
    "id": "5-CYwQ08EZHi"
   },
   "source": [
    "- enumerate()"
   ]
  },
  {
   "cell_type": "code",
   "execution_count": 279,
   "metadata": {
    "colab": {
     "base_uri": "https://localhost:8080/"
    },
    "id": "fn0LHejnEfjk",
    "outputId": "aedbb75e-cae7-470c-e35a-b13e0accd685"
   },
   "outputs": [
    {
     "name": "stdout",
     "output_type": "stream",
     "text": [
      "0 a\n",
      "1 b\n",
      "2 c\n"
     ]
    }
   ],
   "source": [
    "alphabets = ['a', 'b', 'c']\n",
    "for index, value in enumerate(alphabets) :\n",
    "  print(index, value)"
   ]
  },
  {
   "cell_type": "markdown",
   "metadata": {
    "id": "wZOlKTwRFYtW"
   },
   "source": [
    "## 리스트 컴프리헨션(list comprehension)\n",
    "- 반복문을 한 줄에 처리할 수 있음"
   ]
  },
  {
   "cell_type": "code",
   "execution_count": 289,
   "metadata": {
    "colab": {
     "base_uri": "https://localhost:8080/"
    },
    "id": "SqkMTvGnFoL1",
    "outputId": "db397af0-c356-453b-ccd9-03c78bc5521d"
   },
   "outputs": [
    {
     "name": "stdout",
     "output_type": "stream",
     "text": [
      "['apple', 'banana']\n"
     ]
    }
   ],
   "source": [
    "fruits = ['apple', 'kiwi', 'banana']\n",
    "newlist = []\n",
    "\n",
    "# 알파벳 a가 있는 과일만 추출 후, 새로운 리스트에 담기\n",
    "for fruit in fruits :\n",
    "  # print(fruit)\n",
    "  if \"a\" in fruit : \n",
    "    newlist.append(fruit)\n",
    "print(newlist)"
   ]
  },
  {
   "cell_type": "code",
   "execution_count": 296,
   "metadata": {
    "colab": {
     "base_uri": "https://localhost:8080/"
    },
    "id": "xcN1oYdzGQeO",
    "outputId": "1025a624-03ca-4450-b775-971ff60f79c4"
   },
   "outputs": [
    {
     "name": "stdout",
     "output_type": "stream",
     "text": [
      "['apple', 'banana']\n"
     ]
    }
   ],
   "source": [
    "newlist = [fruit for fruit in fruits if \"a\" in fruit]\n",
    "print(newlist)"
   ]
  },
  {
   "cell_type": "markdown",
   "metadata": {
    "id": "iq349mVNOuXS"
   },
   "source": [
    "## 반복문 while\n",
    "- 조건문이 참인 동안에 while문 아래의 문장이 반복해서 수행\n",
    "- for 반복문과는 차이가 있음"
   ]
  },
  {
   "cell_type": "code",
   "execution_count": null,
   "metadata": {
    "id": "3zoiK4EaPA5Z"
   },
   "outputs": [],
   "source": [
    "lm = 0\n",
    "while lm < 28 :\n",
    "  lm = lm+2\n",
    "  print(lm)\n",
    "\n",
    "hsg = 19\n",
    "while hsg < 95 :\n",
    "  hsg = hsg+8\n",
    "  print(hsg)"
   ]
  },
  {
   "cell_type": "markdown",
   "metadata": {
    "id": "QOdtvthqP3dN"
   },
   "source": [
    "## def\n",
    "- 함수를 만들 때 사용하는 예약어\n",
    "- 예약어 : 프로그래밍 언어에서 이미 문법적 용도로 사용하고 있는 단어"
   ]
  },
  {
   "cell_type": "code",
   "execution_count": 106,
   "metadata": {
    "colab": {
     "base_uri": "https://localhost:8080/"
    },
    "id": "A0p5UjJMQIG4",
    "outputId": "5034bd7b-5882-405b-9e35-a55629deec6d"
   },
   "outputs": [
    {
     "data": {
      "text/plain": [
       "33"
      ]
     },
     "execution_count": 106,
     "metadata": {},
     "output_type": "execute_result"
    }
   ],
   "source": [
    "def plus(a, b) :\n",
    "  return a+b\n",
    "\n",
    "plus(5,4)\n",
    "\n",
    "def hsg(a, b) :\n",
    "  return a*b-3\n",
    "\n",
    "hsg(9,4)\n",
    "\n",
    "## 한 코드에 하나의 def 예약어만 출력 가능"
   ]
  },
  {
   "cell_type": "code",
   "execution_count": 103,
   "metadata": {
    "colab": {
     "base_uri": "https://localhost:8080/"
    },
    "id": "zXA4od1gQoIM",
    "outputId": "cf7cfb35-d9eb-4697-adf4-632e1673e9b7"
   },
   "outputs": [
    {
     "data": {
      "text/plain": [
       "9"
      ]
     },
     "execution_count": 103,
     "metadata": {},
     "output_type": "execute_result"
    }
   ],
   "source": [
    "def plus(a, b) :\n",
    "  return a+b\n",
    "\n",
    "plus(5,4)"
   ]
  },
  {
   "cell_type": "markdown",
   "metadata": {
    "id": "ZR2bGOFJhuYC"
   },
   "source": [
    "## 문자열 인덱싱\n",
    "- 인덱싱은 0번째부터 시작"
   ]
  },
  {
   "cell_type": "code",
   "execution_count": null,
   "metadata": {
    "id": "1mRFffigh6jZ"
   },
   "outputs": [],
   "source": [
    "greeting = \"Hello Kaggle\"\n",
    "i = int(input(\"숫자를 입력하세요!\"))\n",
    "print(greeting[i])"
   ]
  },
  {
   "cell_type": "markdown",
   "metadata": {
    "id": "HLe-sRkSi4-o"
   },
   "source": [
    "## 슬라이싱"
   ]
  },
  {
   "cell_type": "code",
   "execution_count": 146,
   "metadata": {
    "colab": {
     "base_uri": "https://localhost:8080/"
    },
    "id": "JqystRUhi6kq",
    "outputId": "1734f5db-8574-47bc-a32c-2a7f5d5af338"
   },
   "outputs": [
    {
     "name": "stdout",
     "output_type": "stream",
     "text": [
      "Hello Ka\n",
      "Hello Ka\n",
      "Kaggle\n",
      "HloKg\n",
      "HlKg\n",
      "Hog\n"
     ]
    }
   ],
   "source": [
    "greeting = \"Hello Kaggle\"\n",
    "# print(greeting[시작인덱스:끝인덱스-1])\n",
    "print(greeting[0:8])\n",
    "print(greeting[:8])\n",
    "print(greeting[6:])\n",
    "# print(greeting[시작인덱스:끝인덱스-1:건너뛸 숫자])\n",
    "print(greeting[0:10:2])\n",
    "print(greeting[0:12:3])\n",
    "print(greeting[0:11:4])"
   ]
  },
  {
   "cell_type": "code",
   "execution_count": 144,
   "metadata": {
    "colab": {
     "base_uri": "https://localhost:8080/"
    },
    "id": "iIIqXfVnk2aH",
    "outputId": "52c664e4-b86b-4087-d7cc-a8cf5ff11e00"
   },
   "outputs": [
    {
     "name": "stdout",
     "output_type": "stream",
     "text": [
      "Hn en i\n"
     ]
    }
   ],
   "source": [
    "alphabet_letter = \"Hong seung gi\"\n",
    "print(alphabet_letter[0:13:2])"
   ]
  },
  {
   "cell_type": "markdown",
   "metadata": {
    "id": "jLt6v4d5mUL-"
   },
   "source": [
    "## 리스트\n",
    "- []로 표시\n",
    "- [item1, item2, item3]\n",
    "- 파이썬은 모든 프로그램이 리스트에서 출발 -> ★ 가장 중요 ★"
   ]
  },
  {
   "cell_type": "code",
   "execution_count": 186,
   "metadata": {
    "colab": {
     "base_uri": "https://localhost:8080/"
    },
    "id": "2VEPNTYemfIC",
    "outputId": "303415c1-cd29-490e-f2cb-057b57b60696"
   },
   "outputs": [
    {
     "name": "stdout",
     "output_type": "stream",
     "text": [
      "[19, 95, 8, 18, 'Happy', \"Hong's\", 'birthday']\n"
     ]
    }
   ],
   "source": [
    "a = [] # 빈 리스트\n",
    "a_func = list() # 빈 리스트 생성\n",
    "b = [1] # 숫자 요소\n",
    "c = ['apple'] # 문자 요소\n",
    "d = [1,2, ['apple'], 'apple']\n",
    "e = [19, 95, 8, 18, 'Happy', \"Hong's\", \"birthday\"]\n",
    "print(e)"
   ]
  },
  {
   "cell_type": "markdown",
   "metadata": {
    "id": "jHPa3sSNnXE-"
   },
   "source": [
    "## 리스트 값 수정하기"
   ]
  },
  {
   "cell_type": "code",
   "execution_count": 150,
   "metadata": {
    "colab": {
     "base_uri": "https://localhost:8080/"
    },
    "id": "M-FaJDr6nYp6",
    "outputId": "85155cd5-2f7b-45ed-a0a8-1b98d74c3567"
   },
   "outputs": [
    {
     "name": "stdout",
     "output_type": "stream",
     "text": [
      "['Hong', 'seung', 'gi']\n"
     ]
    }
   ],
   "source": [
    "a = [\"Hong\", \"seung\", \"zzang\"]\n",
    "a[2] = \"gi\"\n",
    "print(a)"
   ]
  },
  {
   "cell_type": "markdown",
   "metadata": {
    "id": "3fThLCffntW-"
   },
   "source": [
    "## 리스트 값 추가하기\n",
    "- 메서드 사용"
   ]
  },
  {
   "cell_type": "code",
   "execution_count": null,
   "metadata": {
    "id": "I9Za2Odpnw97"
   },
   "outputs": [],
   "source": [
    "a = [\"Hong\", \"seung\", \"zzang\"]\n",
    "a.append(\"Woooooooo\")   # 변수 입력 할 필요 없이 메서드만 입력하면 됨\n",
    "\n",
    "print(a)\n",
    "\n",
    "a.extend([\"gg, gl\"])\n",
    "print(a)\n",
    "\n",
    "a.append([\"gg, gl\"])    # append로 여러 개 입력하면 대괄호까지 입력됨\n",
    "print(a)"
   ]
  },
  {
   "cell_type": "markdown",
   "metadata": {
    "id": "FEZXtTnUo_9r"
   },
   "source": [
    "- insert(인덱스 위치, 값)"
   ]
  },
  {
   "cell_type": "code",
   "execution_count": 160,
   "metadata": {
    "colab": {
     "base_uri": "https://localhost:8080/"
    },
    "id": "EMMXWAllpHX_",
    "outputId": "7efa456d-3cb6-40ab-d0da-855c91b7325b"
   },
   "outputs": [
    {
     "name": "stdout",
     "output_type": "stream",
     "text": [
      "['Hong', 'seung', 'gi', 'zzang']\n"
     ]
    }
   ],
   "source": [
    "a = [\"Hong\", \"seung\", \"zzang\"]\n",
    "a.insert(2, \"gi\")\n",
    "print(a)"
   ]
  },
  {
   "cell_type": "markdown",
   "metadata": {
    "id": "E7RseWJ9pgBv"
   },
   "source": [
    "## 리스트 값 삭제하기\n",
    "- remove(), del"
   ]
  },
  {
   "cell_type": "code",
   "execution_count": 164,
   "metadata": {
    "colab": {
     "base_uri": "https://localhost:8080/"
    },
    "id": "eG0cAtBApkCC",
    "outputId": "3ed8082e-d81b-4466-c81e-20aac235546b"
   },
   "outputs": [
    {
     "name": "stdout",
     "output_type": "stream",
     "text": [
      "[2, 3, 1, 3, 2]\n",
      "[1, 2, 1, 3, 2]\n"
     ]
    }
   ],
   "source": [
    "a = [1, 2, 3, 1, 3, 2]\n",
    "a.remove(1)    # 해당되는 처음 값 삭제\n",
    "\n",
    "print(a)\n",
    "\n",
    "a = [1, 2, 3, 1, 3, 2]\n",
    "a.remove(3)    \n",
    "\n",
    "\n",
    "print(a)"
   ]
  },
  {
   "cell_type": "markdown",
   "metadata": {
    "id": "kcjyeH0_qCpv"
   },
   "source": [
    "- del"
   ]
  },
  {
   "cell_type": "code",
   "execution_count": 170,
   "metadata": {
    "colab": {
     "base_uri": "https://localhost:8080/"
    },
    "id": "JFx8lz-iqFzo",
    "outputId": "489a540b-e771-4ba3-da91-2c3bd1b847e7"
   },
   "outputs": [
    {
     "name": "stdout",
     "output_type": "stream",
     "text": [
      "[2, 5, 8, 14, 16, 19]\n",
      "[8, 14, 16, 19]\n"
     ]
    }
   ],
   "source": [
    "a = [2, 3, 5, 8, 14, 16, 19]\n",
    "del a[1]    # 인덱스에 해당하는 값 삭제\n",
    "\n",
    "print(a)\n",
    "\n",
    "del a[0:2]   # 인덱스 범위에 해당하는 값 삭제\n",
    "\n",
    "print(a)"
   ]
  },
  {
   "cell_type": "markdown",
   "metadata": {
    "id": "5isTMb8puYWO"
   },
   "source": [
    "- pop()"
   ]
  },
  {
   "cell_type": "code",
   "execution_count": 192,
   "metadata": {
    "colab": {
     "base_uri": "https://localhost:8080/"
    },
    "id": "2bt7pTaWuabk",
    "outputId": "8affea2f-b9af-4eae-a0f7-2db6e38ada76"
   },
   "outputs": [
    {
     "name": "stdout",
     "output_type": "stream",
     "text": [
      "[1, 2, 3, 4]\n",
      "5\n"
     ]
    }
   ],
   "source": [
    "a = [1, 2, 3, 4, 5]\n",
    "adp = a.pop(1)\n",
    "print(a)\n",
    "print(adp)\n",
    "x = a.pop()    # 마지막 리스트 값\n",
    "print(a)\n",
    "print(x)"
   ]
  },
  {
   "cell_type": "markdown",
   "metadata": {
    "id": "xoMWdR3hveO3"
   },
   "source": [
    "- clear() : 리스트 내 모든 값 삭제\n",
    "- index() : 값의 위치를 불러옴"
   ]
  },
  {
   "cell_type": "code",
   "execution_count": 205,
   "metadata": {
    "colab": {
     "base_uri": "https://localhost:8080/"
    },
    "id": "0dnnmretvxGI",
    "outputId": "4ee1c038-9201-4e87-b153-0f1119a2f7a8"
   },
   "outputs": [
    {
     "name": "stdout",
     "output_type": "stream",
     "text": [
      "1\n",
      "2\n"
     ]
    }
   ],
   "source": [
    "a = [1, 3, 5, 7, 9]\n",
    "b = [\"Hong\", \"Kim\", \"Lee\", \"Jeong\", \"Lee\"]\n",
    "\n",
    "print(a.index(3))\n",
    "print(b.index(\"Lee\"))"
   ]
  },
  {
   "cell_type": "markdown",
   "metadata": {
    "id": "O1ptbGkWwVha"
   },
   "source": [
    "- sort : 리스트의 정렬"
   ]
  },
  {
   "cell_type": "code",
   "execution_count": 207,
   "metadata": {
    "colab": {
     "base_uri": "https://localhost:8080/"
    },
    "id": "7TsKO971wYyx",
    "outputId": "b2149743-7b3e-4980-a27b-419b10cf99f6"
   },
   "outputs": [
    {
     "name": "stdout",
     "output_type": "stream",
     "text": [
      "[1, 2, 4, 5, 6, 7, 8]\n",
      "Help on method_descriptor:\n",
      "\n",
      "clear(self, /)\n",
      "    Remove all items from list.\n",
      "\n"
     ]
    }
   ],
   "source": [
    "a = [1,5,4,2,7,8,6]\n",
    "a.sort(reverse = False)\n",
    "print(a)\n",
    "\n",
    "help(list.sort)\n",
    "# help(list.index)\n",
    "# help(list.clear)"
   ]
  },
  {
   "cell_type": "markdown",
   "metadata": {
    "id": "z1PkEEg8t-4U"
   },
   "source": [
    "## 문자열, 리스트\n",
    "- 내장함수를 익히는 것이 포인트"
   ]
  },
  {
   "cell_type": "markdown",
   "metadata": {
    "id": "1iNA6Cu7x5bW"
   },
   "source": [
    "## 튜플\n",
    "- 면접질문 : 리스트와 튜플의 차이가 무엇인가?\n",
    "- 리스트 : []\n",
    "  + 수정, 삭제, 추가\n",
    "- 튜플 : ()\n",
    "  + 다 안됨"
   ]
  },
  {
   "cell_type": "code",
   "execution_count": 298,
   "metadata": {
    "colab": {
     "base_uri": "https://localhost:8080/"
    },
    "id": "e-XZnwTny04K",
    "outputId": "47ddd339-889f-46cc-e260-a42fdf89cec8"
   },
   "outputs": [
    {
     "name": "stdout",
     "output_type": "stream",
     "text": [
      "<class 'int'>\n",
      "<class 'tuple'>\n",
      "<class 'tuple'>\n",
      "0\n",
      "(0,)\n",
      "(0, 1, 2)\n"
     ]
    }
   ],
   "source": [
    "tuple1 = (0)            # 콤마가 없어서 int 형태\n",
    "tuple2 = (0,)           # 콤마가 있어야 tuple 형태가 됨\n",
    "tuple3 = 0, 1, 2\n",
    "\n",
    "print(type(tuple1))\n",
    "print(type(tuple2))\n",
    "print(type(tuple3))\n",
    "\n",
    "print(tuple1)\n",
    "print(tuple2)\n",
    "print(tuple3)"
   ]
  },
  {
   "cell_type": "code",
   "execution_count": 299,
   "metadata": {
    "colab": {
     "base_uri": "https://localhost:8080/",
     "height": 193
    },
    "id": "M7BDTCFIzW09",
    "outputId": "3f2f3674-efd5-4237-ab5b-06bc03382546"
   },
   "outputs": [
    {
     "ename": "TypeError",
     "evalue": "ignored",
     "output_type": "error",
     "traceback": [
      "\u001b[0;31m---------------------------------------------------------------------------\u001b[0m",
      "\u001b[0;31mTypeError\u001b[0m                                 Traceback (most recent call last)",
      "\u001b[0;32m<ipython-input-299-3c8e6a62588a>\u001b[0m in \u001b[0;36m<module>\u001b[0;34m()\u001b[0m\n\u001b[1;32m      1\u001b[0m \u001b[0ma\u001b[0m \u001b[0;34m=\u001b[0m \u001b[0;34m(\u001b[0m\u001b[0;36m0\u001b[0m\u001b[0;34m,\u001b[0m \u001b[0;36m1\u001b[0m\u001b[0;34m,\u001b[0m \u001b[0;36m2\u001b[0m\u001b[0;34m,\u001b[0m \u001b[0;36m3\u001b[0m\u001b[0;34m,\u001b[0m \u001b[0;34m'a'\u001b[0m\u001b[0;34m)\u001b[0m\u001b[0;34m\u001b[0m\u001b[0;34m\u001b[0m\u001b[0m\n\u001b[0;32m----> 2\u001b[0;31m \u001b[0;32mdel\u001b[0m \u001b[0ma\u001b[0m\u001b[0;34m[\u001b[0m\u001b[0;36m4\u001b[0m\u001b[0;34m]\u001b[0m\u001b[0;34m\u001b[0m\u001b[0;34m\u001b[0m\u001b[0m\n\u001b[0m",
      "\u001b[0;31mTypeError\u001b[0m: 'tuple' object doesn't support item deletion"
     ]
    }
   ],
   "source": [
    "a = (0, 1, 2, 3, 'a')\n",
    "del a[4]"
   ]
  },
  {
   "cell_type": "code",
   "execution_count": 300,
   "metadata": {
    "colab": {
     "base_uri": "https://localhost:8080/",
     "height": 229
    },
    "id": "zjzVGra80U8e",
    "outputId": "e113204d-84cd-496e-dd9b-062f44fa967f"
   },
   "outputs": [
    {
     "ename": "TypeError",
     "evalue": "ignored",
     "output_type": "error",
     "traceback": [
      "\u001b[0;31m---------------------------------------------------------------------------\u001b[0m",
      "\u001b[0;31mTypeError\u001b[0m                                 Traceback (most recent call last)",
      "\u001b[0;32m<ipython-input-300-51bb12b026ce>\u001b[0m in \u001b[0;36m<module>\u001b[0;34m()\u001b[0m\n\u001b[1;32m      1\u001b[0m \u001b[0ma\u001b[0m \u001b[0;34m=\u001b[0m \u001b[0;34m(\u001b[0m\u001b[0;36m0\u001b[0m\u001b[0;34m,\u001b[0m \u001b[0;36m1\u001b[0m\u001b[0;34m,\u001b[0m \u001b[0;36m2\u001b[0m\u001b[0;34m,\u001b[0m \u001b[0;36m3\u001b[0m\u001b[0;34m,\u001b[0m \u001b[0;34m'a'\u001b[0m\u001b[0;34m)\u001b[0m\u001b[0;34m\u001b[0m\u001b[0;34m\u001b[0m\u001b[0m\n\u001b[0;32m----> 2\u001b[0;31m \u001b[0ma\u001b[0m\u001b[0;34m[\u001b[0m\u001b[0;36m4\u001b[0m\u001b[0;34m]\u001b[0m \u001b[0;34m=\u001b[0m \u001b[0;36m4\u001b[0m\u001b[0;34m\u001b[0m\u001b[0;34m\u001b[0m\u001b[0m\n\u001b[0m\u001b[1;32m      3\u001b[0m \u001b[0;34m\u001b[0m\u001b[0m\n\u001b[1;32m      4\u001b[0m \u001b[0mprint\u001b[0m\u001b[0;34m(\u001b[0m\u001b[0ma\u001b[0m\u001b[0;34m)\u001b[0m\u001b[0;34m\u001b[0m\u001b[0;34m\u001b[0m\u001b[0m\n",
      "\u001b[0;31mTypeError\u001b[0m: 'tuple' object does not support item assignment"
     ]
    }
   ],
   "source": [
    "a = (0, 1, 2, 3, 'a')\n",
    "a[4] = 4\n",
    "\n",
    "print(a)"
   ]
  },
  {
   "cell_type": "code",
   "execution_count": null,
   "metadata": {
    "id": "iYRth4bb0vAx"
   },
   "outputs": [],
   "source": [
    "a = (2, 4, 6, 8, 10)\n",
    "\n",
    "print(a.index(6))"
   ]
  },
  {
   "cell_type": "markdown",
   "metadata": {
    "id": "ot6uluBp1KAG"
   },
   "source": [
    "- 문자열 연산자\n",
    "- +, *"
   ]
  },
  {
   "cell_type": "code",
   "execution_count": 301,
   "metadata": {
    "colab": {
     "base_uri": "https://localhost:8080/"
    },
    "id": "tFqdpUIi1JWC",
    "outputId": "e63cdac2-ef3b-4a66-c503-284fea229677"
   },
   "outputs": [
    {
     "name": "stdout",
     "output_type": "stream",
     "text": [
      "(0.348, 0.288, 0.256, 0.556, 0.376, 0.292)\n"
     ]
    }
   ],
   "source": [
    "obp = (0.348, 0.288, 0.256)\n",
    "slg = (0.556, 0.376, 0.292)\n",
    "print(obp + slg)"
   ]
  },
  {
   "cell_type": "markdown",
   "metadata": {
    "id": "_UpYqn1C2DTm"
   },
   "source": [
    "## 딕셔너리\n",
    "- key(키)와 value(값)으로 구성\n",
    "- 슬라이싱! = (값의 순서가 존재해야 함)\n",
    "- 순서라는 개념 자체가 존재하지 않음"
   ]
  },
  {
   "cell_type": "code",
   "execution_count": 302,
   "metadata": {
    "colab": {
     "base_uri": "https://localhost:8080/"
    },
    "id": "JsETtQ2e2CDx",
    "outputId": "ffa7f01e-051f-41ee-c065-e7d506489dcc"
   },
   "outputs": [
    {
     "name": "stdout",
     "output_type": "stream",
     "text": [
      "['김현수', '이정후']\n",
      "[0.344, 0.367]\n",
      "[3.42, 5.16]\n"
     ]
    }
   ],
   "source": [
    "temp_dict = {\n",
    "    'name' : ['김현수', '이정후'],     # 복수일 경우 []로 묶어줘야 함\n",
    "    'avg' : [0.344, 0.367],\n",
    "    'war' : [3.42, 5.16]\n",
    "}\n",
    "\n",
    "print(temp_dict['name'])\n",
    "print(temp_dict['avg'])\n",
    "print(temp_dict['war'])"
   ]
  },
  {
   "cell_type": "markdown",
   "metadata": {
    "id": "MHEZyXKo71vQ"
   },
   "source": [
    "- keys() 값만 출력"
   ]
  },
  {
   "cell_type": "code",
   "execution_count": 303,
   "metadata": {
    "colab": {
     "base_uri": "https://localhost:8080/"
    },
    "id": "iTRTvKKe8Tm6",
    "outputId": "58fbb512-0c9a-4dc1-de55-4e78b8ef04d0"
   },
   "outputs": [
    {
     "data": {
      "text/plain": [
       "dict_keys(['name', 'avg', 'war'])"
      ]
     },
     "execution_count": 303,
     "metadata": {},
     "output_type": "execute_result"
    }
   ],
   "source": [
    "temp_dict.keys()"
   ]
  },
  {
   "cell_type": "code",
   "execution_count": 304,
   "metadata": {
    "colab": {
     "base_uri": "https://localhost:8080/"
    },
    "id": "SkD02jtY77Ky",
    "outputId": "4e9aefc4-1563-416b-9cbc-0e8cb6e237ba"
   },
   "outputs": [
    {
     "data": {
      "text/plain": [
       "['name', 'avg', 'war']"
      ]
     },
     "execution_count": 304,
     "metadata": {},
     "output_type": "execute_result"
    }
   ],
   "source": [
    "list(temp_dict.keys())     # 리스트로 만들어주기"
   ]
  },
  {
   "cell_type": "markdown",
   "metadata": {
    "id": "voO2TYG88Ycc"
   },
   "source": [
    "- values() 값만 출력"
   ]
  },
  {
   "cell_type": "code",
   "execution_count": 305,
   "metadata": {
    "colab": {
     "base_uri": "https://localhost:8080/"
    },
    "id": "E9ejQuPl8a1i",
    "outputId": "391b70c8-bfe4-4797-fa19-00808b644568"
   },
   "outputs": [
    {
     "data": {
      "text/plain": [
       "dict_values([['김현수', '이정후'], [0.344, 0.367], [3.42, 5.16]])"
      ]
     },
     "execution_count": 305,
     "metadata": {},
     "output_type": "execute_result"
    }
   ],
   "source": [
    "temp_dict.values()"
   ]
  },
  {
   "cell_type": "code",
   "execution_count": 306,
   "metadata": {
    "colab": {
     "base_uri": "https://localhost:8080/"
    },
    "id": "wbiEKRU68gJC",
    "outputId": "692ce55d-22ef-4187-adcf-dbab6403c46f"
   },
   "outputs": [
    {
     "data": {
      "text/plain": [
       "[['김현수', '이정후'], [0.344, 0.367], [3.42, 5.16]]"
      ]
     },
     "execution_count": 306,
     "metadata": {},
     "output_type": "execute_result"
    }
   ],
   "source": [
    "list(temp_dict.values())"
   ]
  },
  {
   "cell_type": "markdown",
   "metadata": {
    "id": "eWIPynyg8noR"
   },
   "source": [
    "- items() -> key-value 쌍으로 list와 tuple 형태로 출력\n"
   ]
  },
  {
   "cell_type": "code",
   "execution_count": 308,
   "metadata": {
    "colab": {
     "base_uri": "https://localhost:8080/"
    },
    "id": "-CMGciDh8xAG",
    "outputId": "f1e3482a-9cca-4674-aa9c-fa4db2c07b49"
   },
   "outputs": [
    {
     "data": {
      "text/plain": [
       "dict_items([('name', ['김현수', '이정후']), ('avg', [0.344, 0.367]), ('war', [3.42, 5.16])])"
      ]
     },
     "execution_count": 308,
     "metadata": {},
     "output_type": "execute_result"
    }
   ],
   "source": [
    "temp_dict.items()"
   ]
  },
  {
   "cell_type": "markdown",
   "metadata": {
    "id": "HVfLto9hLUs0"
   },
   "source": [
    "# 점프 투 파이썬 보충\n",
    "## 사칙연산\n",
    "- 제곱을 나타내는 연산자 **\n",
    "- 나눗셈의 나머지를 반환하는 연산자 %\n",
    "- 나눗셈의 몫을 반환하는 연산자 //"
   ]
  },
  {
   "cell_type": "code",
   "execution_count": 315,
   "metadata": {
    "colab": {
     "base_uri": "https://localhost:8080/"
    },
    "id": "YOTtFY9MMRJ-",
    "outputId": "8b9a9cd1-1ccc-430f-afcf-08c0ffa96543"
   },
   "outputs": [
    {
     "name": "stdout",
     "output_type": "stream",
     "text": [
      "343\n",
      "1\n",
      "2\n"
     ]
    }
   ],
   "source": [
    "a = 7\n",
    "b = 3\n",
    "print(a ** b)\n",
    "print(a % b)\n",
    "print(a // b)"
   ]
  },
  {
   "cell_type": "markdown",
   "metadata": {
    "id": "-roBgj4pM-d-"
   },
   "source": [
    "## 문자열 자료형\n",
    "- 문자열을 만드는 방법 추가적인 2가지\n",
    "  - 큰따옴표 3개를 연속써서 양쪽 둘러싸기\n",
    "  - 작은따옴표 3개를 연속써서 양쪽 둘러싸기"
   ]
  },
  {
   "cell_type": "markdown",
   "metadata": {
    "id": "Y9qUW_ABNqb1"
   },
   "source": [
    "### 문자열 안에 작은따옴표나 큰따옴표를 포함시키고 싶을 때\n",
    "  - 문자열 안에 작은따옴표 포함시키기\n",
    "  "
   ]
  },
  {
   "cell_type": "code",
   "execution_count": 317,
   "metadata": {
    "colab": {
     "base_uri": "https://localhost:8080/"
    },
    "id": "tfa6DDcJNw21",
    "outputId": "5d52eb06-723e-4d31-a2e0-5834514cb8e3"
   },
   "outputs": [
    {
     "name": "stdout",
     "output_type": "stream",
     "text": [
      "python's favorite food is perl\n"
     ]
    }
   ],
   "source": [
    "food = \"python's favorite food is perl\"\n",
    "print(food)"
   ]
  },
  {
   "cell_type": "code",
   "execution_count": 319,
   "metadata": {
    "colab": {
     "base_uri": "https://localhost:8080/",
     "height": 137
    },
    "id": "7_yGNiTPN55N",
    "outputId": "7818d8f8-254e-400e-835a-f90abebf2553"
   },
   "outputs": [
    {
     "ename": "SyntaxError",
     "evalue": "ignored",
     "output_type": "error",
     "traceback": [
      "\u001b[0;36m  File \u001b[0;32m\"<ipython-input-319-898d3cf594f0>\"\u001b[0;36m, line \u001b[0;32m1\u001b[0m\n\u001b[0;31m    food = 'python's favorite food is perl'\u001b[0m\n\u001b[0m                   ^\u001b[0m\n\u001b[0;31mSyntaxError\u001b[0m\u001b[0;31m:\u001b[0m invalid syntax\n"
     ]
    }
   ],
   "source": [
    "food = 'python's favorite food is perl'\n",
    "print(food)"
   ]
  },
  {
   "cell_type": "markdown",
   "metadata": {
    "id": "0VilcOEDOBLH"
   },
   "source": [
    "- 문자열에 큰따옴표 포함시키기(인용)"
   ]
  },
  {
   "cell_type": "code",
   "execution_count": 331,
   "metadata": {
    "colab": {
     "base_uri": "https://localhost:8080/"
    },
    "id": "hhKGYAUhORSl",
    "outputId": "5d9db2ac-2e39-41e1-e902-ac58bf6883c5"
   },
   "outputs": [
    {
     "name": "stdout",
     "output_type": "stream",
     "text": [
      "\"very very good.\" they says.\n"
     ]
    }
   ],
   "source": [
    "BlockB = '\"very very good.\" they says.'\n",
    "print(BlockB)"
   ]
  },
  {
   "cell_type": "code",
   "execution_count": 336,
   "metadata": {
    "colab": {
     "base_uri": "https://localhost:8080/"
    },
    "id": "lJA1iWgtO2Ot",
    "outputId": "f09f64e8-b43f-4a2b-aad3-ca5a989d8c00"
   },
   "outputs": [
    {
     "name": "stdout",
     "output_type": "stream",
     "text": [
      "\"very very good.\" they says.\n",
      "python's favorite food is perl\n"
     ]
    }
   ],
   "source": [
    "BlockB = \"\\\"very very good.\\\" they says.\"\n",
    "print(BlockB)\n",
    "food = 'python\\'s favorite food is perl'\n",
    "print(food)"
   ]
  }
 ],
 "metadata": {
  "colab": {
   "collapsed_sections": [],
   "name": "Day08_20220627.ipynb",
   "provenance": []
  },
  "kernelspec": {
   "display_name": "Python 3 (ipykernel)",
   "language": "python",
   "name": "python3"
  },
  "language_info": {
   "codemirror_mode": {
    "name": "ipython",
    "version": 3
   },
   "file_extension": ".py",
   "mimetype": "text/x-python",
   "name": "python",
   "nbconvert_exporter": "python",
   "pygments_lexer": "ipython3",
   "version": "3.9.12"
  }
 },
 "nbformat": 4,
 "nbformat_minor": 1
}
